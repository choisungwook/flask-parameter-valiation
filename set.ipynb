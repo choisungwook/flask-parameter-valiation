{
 "cells": [
  {
   "cell_type": "markdown",
   "source": [
    "# 첫번째 예제"
   ],
   "metadata": {}
  },
  {
   "cell_type": "code",
   "execution_count": 5,
   "source": [
    "# 사용자 요청\r\n",
    "request_body = {\r\n",
    "    \"a\": \"a1\",\r\n",
    "    \"b\": \"b1\",\r\n",
    "    \"c\": \"c1\",\r\n",
    "    \"d\": \"d1\",\r\n",
    "}\r\n",
    "\r\n",
    "# api 파라미터\r\n",
    "api_parameter = { \"a\", \"b\", \"c\", \"d\"}"
   ],
   "outputs": [],
   "metadata": {}
  },
  {
   "cell_type": "markdown",
   "source": [
    "## 타입 출력"
   ],
   "metadata": {}
  },
  {
   "cell_type": "code",
   "execution_count": 6,
   "source": [
    "print(type(request_body))\r\n",
    "print(type(api_parameter))"
   ],
   "outputs": [
    {
     "output_type": "stream",
     "name": "stdout",
     "text": [
      "<class 'dict'>\n",
      "<class 'set'>\n"
     ]
    }
   ],
   "metadata": {}
  },
  {
   "cell_type": "markdown",
   "source": [
    "## set 차집합 "
   ],
   "metadata": {}
  },
  {
   "cell_type": "code",
   "execution_count": 8,
   "source": [
    "result = api_parameter - request_body.keys()\r\n",
    "print(result)\r\n",
    "print(len(result))"
   ],
   "outputs": [
    {
     "output_type": "stream",
     "name": "stdout",
     "text": [
      "set()\n",
      "0\n"
     ]
    }
   ],
   "metadata": {}
  },
  {
   "cell_type": "markdown",
   "source": [
    "# 두 번째 예제\r\n",
    "*  api 파라미터보다 더 많은 사용자 요청을 허용하는 경우"
   ],
   "metadata": {}
  },
  {
   "cell_type": "code",
   "execution_count": 11,
   "source": [
    "# 사용자 요청\r\n",
    "request_body = {\r\n",
    "    \"a\": \"a1\",\r\n",
    "    \"b\": \"b1\",\r\n",
    "    \"c\": \"c1\",\r\n",
    "    \"d\": \"d1\",\r\n",
    "}\r\n",
    "\r\n",
    "# api 파라미터\r\n",
    "api_parameter = { \"a\", \"b\", \"c\"}"
   ],
   "outputs": [],
   "metadata": {}
  },
  {
   "cell_type": "markdown",
   "source": [
    "## 차집합"
   ],
   "metadata": {}
  },
  {
   "cell_type": "code",
   "execution_count": 12,
   "source": [
    "result = api_parameter - request_body.keys()\r\n",
    "print(result)\r\n",
    "print(len(result))"
   ],
   "outputs": [
    {
     "output_type": "stream",
     "name": "stdout",
     "text": [
      "set()\n",
      "0\n"
     ]
    }
   ],
   "metadata": {}
  },
  {
   "cell_type": "markdown",
   "source": [
    "# 세번째 예제\r\n",
    "*  api 파라미터 일부를 빼먹은 경우"
   ],
   "metadata": {}
  },
  {
   "cell_type": "code",
   "execution_count": 17,
   "source": [
    "# 사용자 요청\r\n",
    "request_body = {\r\n",
    "    \"a\": \"a1\",\r\n",
    "    \"b\": \"b1\"\r\n",
    "}\r\n",
    "\r\n",
    "# api 파라미터\r\n",
    "api_parameter = { \"a\", \"b\", \"c\", \"d\"}"
   ],
   "outputs": [],
   "metadata": {}
  },
  {
   "cell_type": "code",
   "execution_count": 18,
   "source": [
    "result = api_parameter - request_body.keys()\r\n",
    "print(result)\r\n",
    "print(len(result))"
   ],
   "outputs": [
    {
     "output_type": "stream",
     "name": "stdout",
     "text": [
      "{'d', 'c'}\n",
      "2\n"
     ]
    }
   ],
   "metadata": {}
  },
  {
   "cell_type": "code",
   "execution_count": 20,
   "source": [
    "if len(result) > 0:\r\n",
    "    print(f\"필수 파라미터를 입력하지 않았습니다: {' '.join(result)}\")"
   ],
   "outputs": [
    {
     "output_type": "stream",
     "name": "stdout",
     "text": [
      "필수 파라미터를 입력하지 않았습니다: d c\n"
     ]
    }
   ],
   "metadata": {}
  }
 ],
 "metadata": {
  "orig_nbformat": 4,
  "language_info": {
   "name": "python",
   "version": "3.9.6",
   "mimetype": "text/x-python",
   "codemirror_mode": {
    "name": "ipython",
    "version": 3
   },
   "pygments_lexer": "ipython3",
   "nbconvert_exporter": "python",
   "file_extension": ".py"
  },
  "kernelspec": {
   "name": "python3",
   "display_name": "Python 3.9.6 64-bit ('venv': venv)"
  },
  "interpreter": {
   "hash": "cfa3643a92964d79b19d44ad86f1397e9305a0bfbc888e632b4ec7e31a13156c"
  }
 },
 "nbformat": 4,
 "nbformat_minor": 2
}